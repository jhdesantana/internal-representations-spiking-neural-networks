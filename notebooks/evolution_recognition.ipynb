{
 "cells": [
  {
   "cell_type": "code",
   "execution_count": 1,
   "metadata": {},
   "outputs": [],
   "source": [
    "import sys\n",
    "\n",
    "import matplotlib.pyplot as plt\n",
    "import numpy as np\n",
    "import snntorch\n",
    "import snntorch.functional as SF\n",
    "import torch\n",
    "from matplotlib import cm\n",
    "from snntorch import surrogate\n",
    "\n",
    "sys.path.append('../')\n",
    "from src import data\n",
    "from src import plot_params\n",
    "from src.spiking_neural_network import Snn"
   ]
  },
  {
   "cell_type": "code",
   "execution_count": 4,
   "metadata": {},
   "outputs": [],
   "source": [
    "database = 'fashion_mnist'\n",
    "batch_size = 128\n",
    "train_set, test_set, train_loader, test_loader, device = data.set_loader_device(database, batch_size)\n",
    "\n",
    "dataset_name = 'test_set'\n",
    "imgs_labels = torch.load(\n",
    "    f'../data/imgs_labels/{database}_{dataset_name}_imgs_labels.pth'\n",
    ")"
   ]
  },
  {
   "cell_type": "code",
   "execution_count": null,
   "metadata": {},
   "outputs": [],
   "source": [
    "def train(\n",
    "        model,\n",
    "        loss,\n",
    "        optimizer,\n",
    "        train_loader,\n",
    "        batch_size: int,\n",
    "        device: str,\n",
    ") -> tuple[np.ndarray, np.ndarray, np.ndarray, np.ndarray]:\n",
    "    training_time = 25\n",
    "\n",
    "    train_loss = np.zeros(training_time)\n",
    "    train_acc = np.zeros(training_time)\n",
    "\n",
    "    for batch_idx, (train_inputs, train_labels) in enumerate(train_loader):\n",
    "        train_inputs = train_inputs.to(device)\n",
    "        train_labels = train_labels.to(device)\n",
    "\n",
    "        layers = model.forward(train_inputs.view(batch_size, -1))\n",
    "\n",
    "        train_outputs = layers[-1][0]\n",
    "        train_loss_batch = loss(train_outputs, train_labels)\n",
    "\n",
    "        optimizer.zero_grad()\n",
    "        train_loss_batch.backward()\n",
    "        optimizer.step()\n",
    "\n",
    "        train_loss[batch_idx] = train_loss_batch.item()\n",
    "        train_acc[batch_idx] = SF.accuracy_rate(train_outputs, train_labels)\n",
    "\n",
    "        for digit in range(10):\n",
    "            frames = imgs_labels[str(digit)][:400]\n",
    "\n",
    "            layer1, layer2, layer3 = snn.movie(frames, checkpoint, device)\n",
    "            spk3 = layer3[:,0,:]\n",
    "        \n",
    "            # Firing rate\n",
    "            f_output[digit,i] = np.mean(spk3[:,digit])\n",
    "\n",
    "        if batch_idx == training_time -1:\n",
    "            break\n",
    "\n",
    "        print(\"Training Time:\", batch_idx)\n",
    "\n",
    "    return train_loss, train_acc"
   ]
  }
 ],
 "metadata": {
  "kernelspec": {
   "display_name": "master",
   "language": "python",
   "name": "python3"
  },
  "language_info": {
   "codemirror_mode": {
    "name": "ipython",
    "version": 3
   },
   "file_extension": ".py",
   "mimetype": "text/x-python",
   "name": "python",
   "nbconvert_exporter": "python",
   "pygments_lexer": "ipython3",
   "version": "3.11.0"
  }
 },
 "nbformat": 4,
 "nbformat_minor": 2
}
